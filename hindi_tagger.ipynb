{
 "cells": [
  {
   "cell_type": "code",
   "execution_count": 6,
   "metadata": {
    "collapsed": true,
    "pycharm": {
     "name": "#%%\n"
    }
   },
   "outputs": [],
   "source": [
    "from decimal import Decimal as dec\n",
    "\n",
    "\n",
    "class HindiTagger:\n",
    "    train_file_name = 'train_set_hmm.csv'\n",
    "    test_file_name = 'test_set_hmm.csv'\n",
    "\n",
    "    p_word_tag = {}\n",
    "    p_word = {}\n",
    "    p_tag = {}\n",
    "    dict_transition = {}\n",
    "    cnt = 0\n",
    "\n",
    "    def __init__(self):\n",
    "        self.train()\n",
    "\n",
    "    def process_input_file(self, file_name, train_data=False):\n",
    "        vakya_list = []\n",
    "        with open(file_name, encoding='utf8') as inputFile:\n",
    "            s_list = []\n",
    "            prev = \"start\"\n",
    "            for idx, line in enumerate(inputFile):\n",
    "                if idx == 0:\n",
    "                    continue\n",
    "                if line.strip() == \"~\":\n",
    "                    vakya_list.append(s_list)\n",
    "                    s_list = []\n",
    "                    prev = \"start\"\n",
    "                else:\n",
    "                    l = line.split('~')\n",
    "                    s_list.append([l[0].strip(), l[1].strip()])\n",
    "                    if train_data:\n",
    "                        self.dict_transition[f\"{l[1].strip()}_{prev}\"] = self.dict_transition.get(\n",
    "                            f\"{l[1].strip()}_{prev}\", 0) + 1\n",
    "                    prev = l[1].strip()\n",
    "        return vakya_list\n",
    "\n",
    "    def train(self):\n",
    "\n",
    "        vakya_list = self.process_input_file(self.train_file_name, train_data=True)\n",
    "        for word_list in vakya_list:\n",
    "            for word, tag in word_list:\n",
    "                self.p_word[word] = self.p_word.get(word, 0) + 1\n",
    "                self.p_tag[tag] = self.p_tag.get(tag, 0) + 1\n",
    "                self.p_word_tag[f\"{word}_{tag}\"] = self.p_word_tag.get(f\"{word}_{tag}\", 0) + 1\n",
    "\n",
    "        for tag in self.p_tag:\n",
    "            self.cnt += dec(self.dict_transition.get(f\"{tag}_start\", 0))\n",
    "\n",
    "    def transition_prob(self, tag, prev_tag):\n",
    "        if prev_tag == \"start\":\n",
    "            return (dec(self.dict_transition.get(f\"{tag}_{prev_tag}\", 0))) / self.cnt\n",
    "        else:\n",
    "            return (dec(self.dict_transition.get(f\"{tag}_{prev_tag}\", 0))) / dec(self.p_tag.get(prev_tag, 0))\n",
    "\n",
    "    def emission_prob(self, word, tag):\n",
    "        return (dec(self.p_word_tag.get(f\"{word}_{tag}\", 0)) + dec(1)) / (\n",
    "                dec(self.p_tag.get(tag, 0)) + dec(len(self.p_tag)))\n",
    "\n",
    "    def VITERBI(self, vakya):\n",
    "        viterbi_table = []\n",
    "        prev_column = []\n",
    "\n",
    "        for value in range(len(vakya)):\n",
    "            temp_table = {}\n",
    "            temp_prev = {}\n",
    "            for key in self.p_tag:\n",
    "                temp_table[key] = 0\n",
    "                temp_prev[key] = None\n",
    "            viterbi_table.append(temp_table)\n",
    "            prev_column.append(temp_prev)\n",
    "\n",
    "        for t in self.p_tag:\n",
    "            viterbi_table[0][t] = self.transition_prob(t, \"start\") * self.emission_prob(vakya[0],\n",
    "                                                                                        t)\n",
    "            prev_column[0][t] = None\n",
    "\n",
    "        for idx in range(len(vakya)):\n",
    "            for t in self.p_tag:\n",
    "                for t_dash in self.p_tag:\n",
    "                    prev_prob = viterbi_table[idx - 1][t_dash] * self.transition_prob(t, t_dash) * self.emission_prob(\n",
    "                        vakya[idx], t)\n",
    "                    if prev_prob > viterbi_table[idx][t]:\n",
    "                        viterbi_table[idx][t] = prev_prob\n",
    "                        prev_column[idx][t] = t_dash\n",
    "\n",
    "        max_prob = max(viterbi_table[idx], key=viterbi_table[idx].get)\n",
    "\n",
    "        seq = []\n",
    "        itr = max_prob\n",
    "        while itr is not None:\n",
    "            seq.append(itr)\n",
    "            itr = prev_column[idx][itr]\n",
    "            idx -= 1\n",
    "        seq = seq[::-1]\n",
    "        return seq\n",
    "\n",
    "    def hmm_bi_gram(self):\n",
    "        inner_p_tag = {}\n",
    "        index = 0\n",
    "        for key in self.p_tag.keys():\n",
    "            inner_p_tag[key] = index\n",
    "            index += 1\n",
    "\n",
    "        cm = []\n",
    "\n",
    "        for tag_dict_index in range(len(inner_p_tag.keys())):\n",
    "            tnt = []\n",
    "            for j in range(index):\n",
    "                tnt.append(0)\n",
    "            cm.append(tnt)\n",
    "\n",
    "        word_count = 0\n",
    "\n",
    "        for vakya in self.process_input_file(self.test_file_name):\n",
    "            word_count += len(vakya)\n",
    "            words = [shabd[0] for shabd in vakya]\n",
    "            predicted_tags = self.VITERBI(words)\n",
    "            for i in range(len(vakya)):\n",
    "                tag_predicted = predicted_tags[i]\n",
    "                tag = vakya[i][1]\n",
    "                cm[inner_p_tag[tag]][inner_p_tag[tag_predicted]] += 1\n",
    "\n",
    "        pred_actual = 0\n",
    "        for i in range(len(inner_p_tag)):\n",
    "            pred_actual += cm[i][i]\n",
    "\n",
    "        print(pred_actual, word_count)\n",
    "        print(cm)\n",
    "\n",
    "    def predict(self):\n",
    "        self.hmm_bi_gram()\n"
   ]
  },
  {
   "cell_type": "code",
   "execution_count": 7,
   "outputs": [
    {
     "name": "stdout",
     "output_type": "stream",
     "text": [
      "81030 98896\n",
      "[[4633, 15, 5, 142, 35, 325, 59, 7, 3, 236, 73, 107, 63, 37, 13, 41, 19, 50, 72, 26, 481, 211], [3, 16269, 1, 65, 20, 9, 151, 2, 1, 19, 5, 5, 10, 4, 7, 3, 21, 2, 14, 1, 91, 2], [73, 11, 4590, 75, 12, 34, 0, 1, 8, 30, 98, 12, 8, 3, 6, 16, 14, 8, 53, 3, 173, 11], [34, 29, 3, 6967, 170, 48, 14, 0, 3, 27, 12, 26, 62, 5, 25, 24, 44, 21, 56, 45, 220, 22], [6, 3, 1, 196, 3413, 4, 0, 0, 2, 11, 2, 5, 6, 1, 0, 4, 1, 1, 4, 2, 26, 8], [763, 74, 53, 385, 152, 16995, 225, 19, 16, 472, 466, 170, 475, 78, 76, 152, 304, 216, 459, 221, 1613, 397], [31, 47, 10, 96, 32, 207, 6388, 8, 10, 224, 184, 213, 138, 25, 32, 51, 34, 18, 284, 97, 728, 27], [0, 8, 0, 1, 2, 0, 0, 2190, 0, 14, 10, 4, 3, 4, 8, 0, 1, 1, 8, 1, 64, 2], [35, 3, 0, 5, 2, 1, 0, 0, 9511, 25, 17, 1, 5, 0, 2, 1, 0, 0, 1, 0, 23, 5], [131, 64, 25, 163, 65, 384, 92, 13, 22, 3417, 200, 214, 156, 44, 16, 68, 21, 14, 205, 24, 1433, 88], [3, 0, 2, 0, 0, 4, 4, 0, 0, 5, 76, 1, 0, 1, 1, 0, 3, 2, 0, 2, 11, 1], [0, 0, 0, 0, 0, 1, 0, 0, 0, 4, 3, 771, 3, 102, 1, 0, 0, 0, 0, 0, 14, 0], [0, 0, 0, 2, 0, 1, 0, 1, 0, 0, 1, 0, 216, 0, 0, 6, 0, 0, 2, 0, 1, 0], [3, 11, 1, 6, 8, 11, 1, 2, 1, 4, 6, 65, 12, 2900, 1, 10, 0, 3, 8, 8, 47, 1], [8, 5, 0, 5, 1, 8, 0, 7, 0, 8, 6, 2, 2, 1, 917, 1, 0, 11, 1, 1, 18, 0], [0, 1, 0, 0, 1, 1, 0, 1, 1, 1, 1, 1, 11, 1, 0, 478, 1, 0, 3, 1, 6, 0], [3, 1, 0, 1, 0, 1, 3, 1, 0, 7, 1, 1, 0, 0, 0, 0, 761, 1, 1, 0, 5, 0], [2, 0, 0, 1, 0, 2, 1, 0, 0, 0, 2, 3, 8, 4, 4, 0, 0, 204, 2, 3, 16, 0], [2, 0, 1, 1, 0, 0, 1, 1, 0, 0, 1, 0, 0, 1, 0, 1, 0, 0, 202, 0, 1, 0], [1, 0, 0, 0, 0, 0, 0, 0, 1, 0, 1, 0, 1, 0, 0, 0, 0, 0, 1, 109, 6, 0], [0, 0, 0, 0, 0, 0, 0, 1, 0, 0, 1, 1, 0, 0, 0, 0, 0, 0, 1, 1, 23, 0], [0, 0, 0, 0, 0, 0, 0, 0, 0, 0, 0, 0, 0, 0, 0, 0, 0, 0, 0, 0, 0, 0]]\n"
     ]
    }
   ],
   "source": [
    "tagger = HindiTagger()\n",
    "tagger.predict()"
   ],
   "metadata": {
    "collapsed": false,
    "pycharm": {
     "name": "#%%\n"
    }
   }
  },
  {
   "cell_type": "code",
   "execution_count": 7,
   "outputs": [],
   "source": [],
   "metadata": {
    "collapsed": false,
    "pycharm": {
     "name": "#%%\n"
    }
   }
  }
 ],
 "metadata": {
  "kernelspec": {
   "display_name": "Python 3",
   "language": "python",
   "name": "python3"
  },
  "language_info": {
   "codemirror_mode": {
    "name": "ipython",
    "version": 2
   },
   "file_extension": ".py",
   "mimetype": "text/x-python",
   "name": "python",
   "nbconvert_exporter": "python",
   "pygments_lexer": "ipython2",
   "version": "2.7.6"
  }
 },
 "nbformat": 4,
 "nbformat_minor": 0
}